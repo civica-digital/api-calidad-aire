{
 "cells": [
  {
   "cell_type": "code",
   "execution_count": 10,
   "metadata": {
    "collapsed": true
   },
   "outputs": [],
   "source": [
    "import pymongo"
   ]
  },
  {
   "cell_type": "code",
   "execution_count": 11,
   "metadata": {
    "collapsed": true
   },
   "outputs": [],
   "source": [
    "from pymongo import MongoClient\n",
    "client = MongoClient()"
   ]
  },
  {
   "cell_type": "code",
   "execution_count": 12,
   "metadata": {
    "collapsed": true
   },
   "outputs": [],
   "source": [
    "db = client.calidad_api"
   ]
  },
  {
   "cell_type": "code",
   "execution_count": 13,
   "metadata": {
    "collapsed": true
   },
   "outputs": [],
   "source": [
    "collection = db['places']"
   ]
  },
  {
   "cell_type": "code",
   "execution_count": 32,
   "metadata": {
    "collapsed": false
   },
   "outputs": [],
   "source": [
    "#Aqui meti los diccionarios de los lugares uno por uno\n",
    "place = {\n",
    "\"id\": \"Camp\",\n",
    "\"name\":\"Cerro de la Campana\",\n",
    "\"long\":\"101.13\",\n",
    "\"lat\":\"103.13\",\n",
    "\"timezone\":\"GMT +6\",\n",
    "\"level\":\"station\",\n",
    "\"id_country\":\"MX\",\n",
    "\"id_city\":\"MTY\",\n",
    "}"
   ]
  },
  {
   "cell_type": "code",
   "execution_count": 33,
   "metadata": {
    "collapsed": true
   },
   "outputs": [],
   "source": [
    "places = db.place"
   ]
  },
  {
   "cell_type": "code",
   "execution_count": 34,
   "metadata": {
    "collapsed": false
   },
   "outputs": [],
   "source": [
    "place_id = places.insert_one(place).inserted_id"
   ]
  },
  {
   "cell_type": "code",
   "execution_count": 40,
   "metadata": {
    "collapsed": false
   },
   "outputs": [
    {
     "name": "stdout",
     "output_type": "stream",
     "text": [
      "{'long': '101.13', 'level': 'station', 'id_country': 'MX', 'id_city': 'CDMX', 'lat': '103.13', '_id': ObjectId('564ea6df3372c318b2aee2d8'), 'id': 'Tac', 'timezone': 'GMT +6', 'name': 'Tacubaya'}\n",
      "{'timezone': 'GMT +6', 'level': 'city', 'id_country': 'MX', 'lat': '22.22', '_id': ObjectId('564ea7303372c318b2aee2d9'), 'id': 'MTY', 'name': 'Monterrey', 'long': '102.11'}\n",
      "{'timezone': 'GMT +6', 'level': 'country', 'lat': '22.22', '_id': ObjectId('564ea7463372c318b2aee2da'), 'id': 'MX', 'name': 'México', 'long': '102.11'}\n",
      "{'timezone': 'GMT +6', 'level': 'city', 'id_country': 'MX', 'lat': '22.22', '_id': ObjectId('564ea75b3372c318b2aee2db'), 'id': 'CDMX', 'name': 'Ciudad de México', 'long': '102.11'}\n",
      "{'long': '101.13', 'level': 'station', 'id_country': 'MX', 'id_city': 'MTY', 'lat': '103.13', '_id': ObjectId('564ea76d3372c318b2aee2dc'), 'id': 'Camp', 'timezone': 'GMT +6', 'name': 'Cerro de la Campana'}\n"
     ]
    }
   ],
   "source": [
    "for place in places.find():\n",
    "    print(place)"
   ]
  },
  {
   "cell_type": "code",
   "execution_count": 41,
   "metadata": {
    "collapsed": true
   },
   "outputs": [],
   "source": [
    "collection = db['methods']"
   ]
  },
  {
   "cell_type": "code",
   "execution_count": 42,
   "metadata": {
    "collapsed": true
   },
   "outputs": [],
   "source": [
    "method = {\n",
    "    \"method_id\": \"met1\",\n",
    "    \"method_short-description\":\"Esta es una descripción chida\",\n",
    "    \"method_protocol\":\"Pasito 1, Pasito 2, Pasito tun tun\",\n",
    "    \"method_device\":\"Supermaquinón 2\"\n",
    "}"
   ]
  },
  {
   "cell_type": "code",
   "execution_count": 43,
   "metadata": {
    "collapsed": true
   },
   "outputs": [],
   "source": [
    "methods = db.method"
   ]
  },
  {
   "cell_type": "code",
   "execution_count": 44,
   "metadata": {
    "collapsed": true
   },
   "outputs": [],
   "source": [
    "method_id = methods.insert_one(method).inserted_id"
   ]
  },
  {
   "cell_type": "code",
   "execution_count": 45,
   "metadata": {
    "collapsed": false
   },
   "outputs": [
    {
     "data": {
      "text/plain": [
       "{'_id': ObjectId('564ea8313372c318b2aee2dd'),\n",
       " 'method_device': 'Supermaquinón 2',\n",
       " 'method_id': 'met1',\n",
       " 'method_protocol': 'Pasito 1, Pasito 2, Pasito tun tun',\n",
       " 'method_short-description': 'Esta es una descripción chida'}"
      ]
     },
     "execution_count": 45,
     "metadata": {},
     "output_type": "execute_result"
    }
   ],
   "source": [
    "methods.find_one()"
   ]
  },
  {
   "cell_type": "code",
   "execution_count": 46,
   "metadata": {
    "collapsed": true
   },
   "outputs": [],
   "source": [
    "collection = db['pollutants']"
   ]
  },
  {
   "cell_type": "code",
   "execution_count": 47,
   "metadata": {
    "collapsed": true
   },
   "outputs": [],
   "source": [
    "pollutant = {\n",
    "    \"station_id\":\"Tac\",\n",
    "    \"pollutant_id\":\"CO2\",\n",
    "    \"pollutant_unit\":\"ug\",\n",
    "    \"pollutant_update_time\":\"10/12/2014\",\n",
    "    \"pollutant_averaging\":\"5 min\",\n",
    "    \"pollutant_value\":\"36\"\n",
    "}"
   ]
  },
  {
   "cell_type": "code",
   "execution_count": 48,
   "metadata": {
    "collapsed": true
   },
   "outputs": [],
   "source": [
    "pollutants = db.pollutant"
   ]
  },
  {
   "cell_type": "code",
   "execution_count": 49,
   "metadata": {
    "collapsed": true
   },
   "outputs": [],
   "source": [
    "pollutant_id = pollutants.insert_one(pollutant).inserted_id"
   ]
  },
  {
   "cell_type": "code",
   "execution_count": 52,
   "metadata": {
    "collapsed": false
   },
   "outputs": [
    {
     "data": {
      "text/plain": [
       "{'_id': ObjectId('564ea9543372c318b2aee2de'),\n",
       " 'pollutant_averaging': '5 min',\n",
       " 'pollutant_id': 'CO2',\n",
       " 'pollutant_unit': 'ug',\n",
       " 'pollutant_update_time': '10/12/2014',\n",
       " 'pollutant_value': '36',\n",
       " 'station_id': 'Tac'}"
      ]
     },
     "execution_count": 52,
     "metadata": {},
     "output_type": "execute_result"
    }
   ],
   "source": [
    "pollutants.find_one()"
   ]
  },
  {
   "cell_type": "code",
   "execution_count": null,
   "metadata": {
    "collapsed": true
   },
   "outputs": [],
   "source": []
  }
 ],
 "metadata": {
  "kernelspec": {
   "display_name": "Python 3",
   "language": "python",
   "name": "python3"
  },
  "language_info": {
   "codemirror_mode": {
    "name": "ipython",
    "version": 3
   },
   "file_extension": ".py",
   "mimetype": "text/x-python",
   "name": "python",
   "nbconvert_exporter": "python",
   "pygments_lexer": "ipython3",
   "version": "3.4.1"
  }
 },
 "nbformat": 4,
 "nbformat_minor": 0
}
